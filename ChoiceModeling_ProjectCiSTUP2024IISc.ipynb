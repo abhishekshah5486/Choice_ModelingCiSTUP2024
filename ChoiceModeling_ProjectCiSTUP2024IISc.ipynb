{
  "nbformat": 4,
  "nbformat_minor": 0,
  "metadata": {
    "colab": {
      "provenance": []
    },
    "kernelspec": {
      "name": "python3",
      "display_name": "Python 3"
    },
    "language_info": {
      "name": "python"
    }
  },
  "cells": [
    {
      "cell_type": "code",
      "execution_count": null,
      "metadata": {
        "id": "9fvPk1FKuNsF"
      },
      "outputs": [],
      "source": [
        "import numpy as np\n",
        "import pandas as pd"
      ]
    },
    {
      "cell_type": "markdown",
      "source": [
        "## Problem Statement\n",
        "\n",
        "Write a Python function to calculate the probability of each alternative in a multinomial choice\n",
        "setting using the logistic function, given a set of parameters and independent variables. The\n",
        "function should be generic enough to handle any number of alternatives and independent variables.\n",
        "In a multinomial logit model, the probability of each alternative is calculated using a logistic\n",
        "function. For each alternative, a deterministic utility (V) is computed based on a linear\n",
        "combination of independent variables and their respective coefficients (β). The probability of each\n",
        "alternative is the exponential of its utility divided by the sum of exponentials for all utilities.\n",
        "Given Sample Data:\n",
        "data = {\n",
        "'X1': [2,1,3,4,2,1,8,7,3,2],\n",
        "'X2': [8,7,4,1,4,7,2,2,3,1],\n",
        "'Sero': [0, 0, 0, 0, 0, 0, 0, 0, 0, 0],\n",
        "‘S1’: [3,8,4,7,1,6,5,9,2,3],\n",
        "‘AV1’ : [1,1,1,1,1,0,0,1,1,0],\n",
        "‘AV2’: [1,1,1,0,0,1,1,1,0,1],\n",
        "‘AV3’: [1,1,0,0,1,1,1,1,1,1]\n",
        "}\n",
        "Deterministic Utilities:\n",
        "\n",
        "V1 = β01 + β1X1 + βS1,13S1\n",
        "V2 = β02 + β2X2 + βS1,23S1\n",
        "V3 = β03 + β1Sero + β2Sero\n",
        "\n",
        "Probabilities to Compute:\n",
        "P1 =\n",
        "\n",
        "AV1 × exp(V1)\n",
        "\n",
        "AV1 × exp(V1) + AV2 × exp(V2) + AV3 × exp(V3)\n",
        "P2 =\n",
        "\n",
        "AV2 × exp(V2)\n",
        "\n",
        "AV1 × exp(V1) + AV2 × exp(V2) + AV3 × exp(V3)\n",
        "P1 =\n",
        "\n",
        "AV3 × exp(V3)\n",
        "\n",
        "AV1 × exp(V1) + AV2 × exp(V2) + AV3 × exp(V3)\n",
        "\n",
        "Page 3 of 3\n",
        "\n",
        "Parameters:\n",
        "β01 = 0.1, β1 = −0.5, β2 = −0.4, β02 = 1, β03 = 0, βS1,13 = 0.33, βS1,23 = 0.58\n",
        "Tasks\n",
        "Write a Python function called ‘calculate_probabilities’ that takes the following inputs:\n",
        "- Parameters: A dictionary containing the β coefficients.\n",
        "- Data: A dictionary containing the independent variables (X1, X2, Sero, etc.).\n",
        "- Utilities: A list of functions that define the deterministic utilities for each alternative based on\n",
        "the given parameters and data.\n",
        "Your function should output a new dictionary with keys representing each alternative and values\n",
        "as lists containing the calculated probabilities for each data point. Save this output in .txt file\n",
        "format.\n",
        "Ensure your code is well-commented to explain the logic used at each step.\n",
        "Bonus: Include error handling for possible input errors such as mismatched dimensions between\n",
        "parameters and data points."
      ],
      "metadata": {
        "id": "nFFVvXWWv9_H"
      }
    },
    {
      "cell_type": "code",
      "source": [
        "\"\"\"\n",
        "    Calculate probabilities of each alternative using multinomial logit model.\n",
        "\n",
        "    Parameters:\n",
        "    parameters (dict): Dictionary containing β coefficients.\n",
        "    data (dict): Dictionary containing independent variables.\n",
        "    utilities (list): List of functions defining deterministic utilities for each alternative.\n",
        "\n",
        "    Returns:\n",
        "    dict: Dictionary containing probabilities for each alternative.\n",
        "\"\"\""
      ],
      "metadata": {
        "colab": {
          "base_uri": "https://localhost:8080/",
          "height": 125
        },
        "id": "EPAuzvBQv3_K",
        "outputId": "aff87a5f-d9e3-4abf-995a-b2c9488a79c4"
      },
      "execution_count": null,
      "outputs": [
        {
          "output_type": "execute_result",
          "data": {
            "text/plain": [
              "'\\n    Calculate probabilities of each alternative using multinomial logit model.\\n\\n    Parameters:\\n    parameters (dict): Dictionary containing β coefficients.\\n    data (dict): Dictionary containing independent variables.\\n    utilities (list): List of functions defining deterministic utilities for each alternative.\\n\\n    Returns:\\n    dict: Dictionary containing probabilities for each alternative.\\n'"
            ],
            "application/vnd.google.colaboratory.intrinsic+json": {
              "type": "string"
            }
          },
          "metadata": {},
          "execution_count": 51
        }
      ]
    },
    {
      "cell_type": "code",
      "source": [
        "# Parameters : Dictionary parameters containing the B(Beta) coefficients given\n",
        "parameters = {\n",
        "    'b_01' : 0.1,\n",
        "    'b1' : -0.5,\n",
        "    'b2' : -0.4,\n",
        "    'b_02' : 1,\n",
        "    'b_03' : 0,\n",
        "    'bS1_13' : 0.33,\n",
        "    'bS1_23' : 0.58\n",
        "}\n",
        "#\n",
        "data = {\n",
        "    'X1' : [2,1,3,4,2,1,8,7,3,2],\n",
        "    'X2' : [8,7,4,1,4,7,2,2,3,1],\n",
        "    'Sero': [0, 0, 0, 0, 0, 0, 0, 0, 0, 0],\n",
        "    'S1': [3,8,4,7,1,6,5,9,2,3],\n",
        "    'AV1' : [1,1,1,1,1,0,0,1,1,0],\n",
        "    'AV2' : [1,1,1,0,0,1,1,1,0,1],\n",
        "    'AV3' : [1,1,0,0,1,1,1,1,1,1]\n",
        "}"
      ],
      "metadata": {
        "id": "rglLnJsgwN8_"
      },
      "execution_count": 58,
      "outputs": []
    },
    {
      "cell_type": "code",
      "source": [
        "# Functions for deterministic utilities\n",
        "def calc_V1(data, parameters):\n",
        "  #V1 = β01 + β1*X1 + βS1,13*S1\n",
        "  temp = parameters['b_01'] + (parameters['b1'] * np.array(data['X1']) )  + parameters['bS1_13'] * np.array(data['S1'])\n",
        "  return temp\n",
        "\n",
        "def calc_V2(data, parameters):\n",
        "  #V2 = β02 + β2*X2 + βS1,23*S1\n",
        "  temp = parameters['b_02'] + (parameters['b2'] * np.array(data['X2']) )  + parameters['bS1_23'] * np.array(data['S1'])\n",
        "  return temp\n",
        "\n",
        "def calc_V3(data, parameters):\n",
        "  #V3 = β03 + β1*Sero + β2*Sero\n",
        "  temp = parameters['b_03'] + (parameters['b1'] * np.array(data['Sero']) )  + parameters['b2'] * np.array(data['Sero'])\n",
        "  return temp\n",
        "\n",
        "# Utilities: A list of functions that define the deterministic utilities for each alternative based on\n",
        "# the given parameters and data.\n",
        "utilities = [calc_V1, calc_V2, calc_V3]"
      ],
      "metadata": {
        "id": "vGbf0D1s0Rp-"
      },
      "execution_count": 59,
      "outputs": []
    },
    {
      "cell_type": "code",
      "source": [
        "probabilities = {}\n",
        "\n",
        "def calculate_probabilities(parameters, data, utilities):\n",
        "  # Caculating the exponent e^Vn for every utility using numpy(np.exp() function)\n",
        "  # Storing the exponents of utilities (e^Vn) in another list exp_utilities\n",
        "  exp_utilities = [];\n",
        "\n",
        "  for utility_fn in utilities:\n",
        "    exp_temp = np.exp(utility_fn(data, parameters))\n",
        "    exp_utilities.append(exp_temp)\n",
        "\n",
        "  #AV1 × exp(V1) + AV2 × exp(V2) + AV3 × exp(V3)\n",
        "  p_denominator = 0\n",
        "  for j in range(len(utilities)):\n",
        "    p_denominator = p_denominator + (np.array(data[f'AV{j+1}']) * exp_utilities[j])\n",
        "\n",
        "  for j in range(len(utilities)):\n",
        "    temp_prob = (np.array(data[f'AV{j+1}']) * exp_utilities[j]) / p_denominator\n",
        "    probabilities[f'P{j+1}'] = temp_prob\n",
        "\n",
        "\n",
        "\n",
        "\n",
        "# Saving the output of the function calculate_probabilities() in .txt file\n",
        "def save_probabilities(probabilities, filename='probabilities.txt'):\n",
        "  with open (filename, \"w\") as file:\n",
        "    for key, value in probabilities:\n",
        "      file.write(f'{key} : {value}')\n",
        "\n",
        "  file.close()\n"
      ],
      "metadata": {
        "id": "4tmc6bGNwRNl"
      },
      "execution_count": 60,
      "outputs": []
    },
    {
      "cell_type": "code",
      "source": [
        "calculate_probabilities(parameters, data, utilities)\n",
        "save_probabilities(probabilities)\n"
      ],
      "metadata": {
        "id": "_i4OI9_lJWhb"
      },
      "execution_count": 61,
      "outputs": []
    }
  ]
}